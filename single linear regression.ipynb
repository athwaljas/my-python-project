{
 "cells": [
  {
   "cell_type": "code",
   "execution_count": 1,
   "id": "8ed077cf-ba8c-4699-b0af-3580f7c98d03",
   "metadata": {},
   "outputs": [],
   "source": [
    "import pandas as pd\n",
    "import numpy as np\n",
    "import matplotlib.pyplot as plt\n",
    "%matplotlib inline\n",
    "import seaborn as sns\n",
    "sns.set(color_codes=True)"
   ]
  },
  {
   "cell_type": "code",
   "execution_count": 3,
   "id": "0ee8fe1d-6ab1-4f14-8143-b52834dd317d",
   "metadata": {},
   "outputs": [
    {
     "data": {
      "text/html": [
       "<div>\n",
       "<style scoped>\n",
       "    .dataframe tbody tr th:only-of-type {\n",
       "        vertical-align: middle;\n",
       "    }\n",
       "\n",
       "    .dataframe tbody tr th {\n",
       "        vertical-align: top;\n",
       "    }\n",
       "\n",
       "    .dataframe thead th {\n",
       "        text-align: right;\n",
       "    }\n",
       "</style>\n",
       "<table border=\"1\" class=\"dataframe\">\n",
       "  <thead>\n",
       "    <tr style=\"text-align: right;\">\n",
       "      <th></th>\n",
       "      <th>Hours</th>\n",
       "      <th>Scores</th>\n",
       "    </tr>\n",
       "  </thead>\n",
       "  <tbody>\n",
       "    <tr>\n",
       "      <th>0</th>\n",
       "      <td>2.5</td>\n",
       "      <td>21</td>\n",
       "    </tr>\n",
       "    <tr>\n",
       "      <th>1</th>\n",
       "      <td>5.1</td>\n",
       "      <td>47</td>\n",
       "    </tr>\n",
       "    <tr>\n",
       "      <th>2</th>\n",
       "      <td>3.2</td>\n",
       "      <td>27</td>\n",
       "    </tr>\n",
       "    <tr>\n",
       "      <th>3</th>\n",
       "      <td>8.5</td>\n",
       "      <td>75</td>\n",
       "    </tr>\n",
       "    <tr>\n",
       "      <th>4</th>\n",
       "      <td>3.5</td>\n",
       "      <td>30</td>\n",
       "    </tr>\n",
       "  </tbody>\n",
       "</table>\n",
       "</div>"
      ],
      "text/plain": [
       "   Hours  Scores\n",
       "0    2.5      21\n",
       "1    5.1      47\n",
       "2    3.2      27\n",
       "3    8.5      75\n",
       "4    3.5      30"
      ]
     },
     "execution_count": 3,
     "metadata": {},
     "output_type": "execute_result"
    }
   ],
   "source": [
    "df1= pd.read_csv('student_scores1.csv')\n",
    "df1.head()"
   ]
  },
  {
   "cell_type": "code",
   "execution_count": 4,
   "id": "9cc7cb41-faf3-4fa7-aa50-399883944519",
   "metadata": {},
   "outputs": [
    {
     "data": {
      "text/html": [
       "<div>\n",
       "<style scoped>\n",
       "    .dataframe tbody tr th:only-of-type {\n",
       "        vertical-align: middle;\n",
       "    }\n",
       "\n",
       "    .dataframe tbody tr th {\n",
       "        vertical-align: top;\n",
       "    }\n",
       "\n",
       "    .dataframe thead th {\n",
       "        text-align: right;\n",
       "    }\n",
       "</style>\n",
       "<table border=\"1\" class=\"dataframe\">\n",
       "  <thead>\n",
       "    <tr style=\"text-align: right;\">\n",
       "      <th></th>\n",
       "      <th>Hours</th>\n",
       "      <th>Scores</th>\n",
       "    </tr>\n",
       "  </thead>\n",
       "  <tbody>\n",
       "    <tr>\n",
       "      <th>count</th>\n",
       "      <td>25.000000</td>\n",
       "      <td>25.000000</td>\n",
       "    </tr>\n",
       "    <tr>\n",
       "      <th>mean</th>\n",
       "      <td>5.012000</td>\n",
       "      <td>51.480000</td>\n",
       "    </tr>\n",
       "    <tr>\n",
       "      <th>std</th>\n",
       "      <td>2.525094</td>\n",
       "      <td>25.286887</td>\n",
       "    </tr>\n",
       "    <tr>\n",
       "      <th>min</th>\n",
       "      <td>1.100000</td>\n",
       "      <td>17.000000</td>\n",
       "    </tr>\n",
       "    <tr>\n",
       "      <th>25%</th>\n",
       "      <td>2.700000</td>\n",
       "      <td>30.000000</td>\n",
       "    </tr>\n",
       "    <tr>\n",
       "      <th>50%</th>\n",
       "      <td>4.800000</td>\n",
       "      <td>47.000000</td>\n",
       "    </tr>\n",
       "    <tr>\n",
       "      <th>75%</th>\n",
       "      <td>7.400000</td>\n",
       "      <td>75.000000</td>\n",
       "    </tr>\n",
       "    <tr>\n",
       "      <th>max</th>\n",
       "      <td>9.200000</td>\n",
       "      <td>95.000000</td>\n",
       "    </tr>\n",
       "  </tbody>\n",
       "</table>\n",
       "</div>"
      ],
      "text/plain": [
       "           Hours     Scores\n",
       "count  25.000000  25.000000\n",
       "mean    5.012000  51.480000\n",
       "std     2.525094  25.286887\n",
       "min     1.100000  17.000000\n",
       "25%     2.700000  30.000000\n",
       "50%     4.800000  47.000000\n",
       "75%     7.400000  75.000000\n",
       "max     9.200000  95.000000"
      ]
     },
     "execution_count": 4,
     "metadata": {},
     "output_type": "execute_result"
    }
   ],
   "source": [
    "df1.describe()"
   ]
  },
  {
   "cell_type": "code",
   "execution_count": 5,
   "id": "0ea801c0-9709-4cd5-9a24-c77bf93e3353",
   "metadata": {},
   "outputs": [],
   "source": [
    "x=df1['Hours'].to_numpy()\n",
    "y=df1['Scores'].to_numpy()\n",
    "# These lines extract the 'Hours' and 'Scores' columns from a DataFrame df1 and\n",
    "#convert them to NumPy arrays. 'Hours' will be the input feature (x), and 'Scores' will be the target variable (y).\n",
    "\n",
    "from sklearn.model_selection import train_test_split\n",
    "x_train, x_test,y_train,y_test=train_test_split(x,y,test_size=0.2, random_state=100)\n",
    "# This code splits the data into training and testing sets. It uses 80% of the data for training \n",
    "#(test_size=0.2 means 20% for testing) and sets a random state for reproducibility.\n",
    "\n",
    "x_train2=x_train.reshape(-1,1)\n",
    "x_test2=x_test.reshape(-1,1)\n",
    "y_train2=y_train.reshape(-1,1)\n",
    "y_test2=y_test.reshape(-1,1)\n",
    "\n",
    "#These lines reshape the data to ensure it's in the correct format for most machine learning algorithms in scikit-learn. The -1 in reshape(-1,1) \n",
    "#automatically calculates the size of that dimension to match the data."
   ]
  },
  {
   "cell_type": "code",
   "execution_count": 10,
   "id": "a622d508-b2a6-4532-9bdd-abd931b19f72",
   "metadata": {},
   "outputs": [
    {
     "data": {
      "image/png": "[encoded data removed]",
      "text/plain": [
       "<Figure size 640x480 with 1 Axes>"
      ]
     },
     "metadata": {},
     "output_type": "display_data"
    }
   ],
   "source": [
    "lmgraph=sns.regplot(x=x,y=y)\n",
    "lmgraph.axes.set_title(\"hours studied vs percentage score\", size=16,color='red',alpha=0.5)\n",
    "lmgraph.set_xlabel(\"hours studied\", size=14, color='blue', alpha=0.5)\n",
    "lmgraph.set_ylabel(\"percentage score\", size=14, color='blue', alpha=0.5)\n",
    "plt.show()"
   ]
  },
  {
   "cell_type": "code",
   "execution_count": 11,
   "id": "abb1c131-4953-4949-9705-f00b4cca3cca",
   "metadata": {},
   "outputs": [
    {
     "data": {
      "image/png": "[encoded data removed]",
      "text/plain": [
       "<Figure size 640x480 with 1 Axes>"
      ]
     },
     "metadata": {},
     "output_type": "display_data"
    }
   ],
   "source": [
    "sns.boxplot(data=df1)\n",
    "plt.show()"
   ]
  },
  {
   "cell_type": "code",
   "execution_count": 15,
   "id": "fc218b11-c9cb-47a3-b9c8-07668890f407",
   "metadata": {},
   "outputs": [
    {
     "name": "stdout",
     "output_type": "stream",
     "text": [
      "Method: Linear Regression\n",
      "\n",
      "Intercept: 1.99\n",
      "\n",
      "Coefficient: 9.84\n",
      "\n",
      "R2: 0.91\n",
      "Mean Absolute Error: 4.14\n",
      "Mean Squared Error: 20.64\n",
      "Root Mean Squared Error: 4.54\n"
     ]
    },
    {
     "name": "stderr",
     "output_type": "stream",
     "text": [
      "C:\\Users\\Jaskirat kaur\\AppData\\Local\\Temp\\ipykernel_6700\\750517105.py:9: DeprecationWarning: Conversion of an array with ndim > 0 to a scalar is deprecated, and will error in future. Ensure you extract a single element from your array before performing this operation. (Deprecated NumPy 1.25.)\n",
      "  print('\\nIntercept: {:0.2f}'.format(float(method.intercept_)))\n",
      "C:\\Users\\Jaskirat kaur\\AppData\\Local\\Temp\\ipykernel_6700\\750517105.py:10: DeprecationWarning: Conversion of an array with ndim > 0 to a scalar is deprecated, and will error in future. Ensure you extract a single element from your array before performing this operation. (Deprecated NumPy 1.25.)\n",
      "  print('\\nCoefficient: {:0.2f}'.format((float(method.coef_))))\n"
     ]
    }
   ],
   "source": [
    "from sklearn.linear_model import LinearRegression\n",
    "from sklearn import metrics\n",
    "from sklearn.metrics import r2_score\n",
    "for name, method in[('Linear Regression', LinearRegression())]:\n",
    "    method.fit(x_train2,y_train2)\n",
    "    predict=method.predict(x_test2)\n",
    "print('Method: {}'.format(name))\n",
    "#coefficients\n",
    "print('\\nIntercept: {:0.2f}'.format(float(method.intercept_)))\n",
    "print('\\nCoefficient: {:0.2f}'.format((float(method.coef_))))\n",
    "\n",
    "print('\\nR2: {:0.2f}'.format(r2_score(y_test, predict)))\n",
    "print('Mean Absolute Error: {:0.2f}'.format(metrics.mean_absolute_error(y_test, predict)))\n",
    "print('Mean Squared Error: {:0.2f}'.format(metrics.mean_squared_error(y_test, predict)))\n",
    "print('Root Mean Squared Error: {:0.2f}'.format(np.sqrt(metrics.mean_squared_error(y_test, predict))))\n",
    "      "
   ]
  },
  {
   "cell_type": "markdown",
   "id": "b358c9f9-64af-4dc2-b99d-57c47965019a",
   "metadata": {},
   "source": [
    "The deprecation warnings you're encountering are related to changes in NumPy 1.25, which aims to modify how arrays are converted to scalars. To resolve these warnings and future-proof your code, you should modify the lines causing the warnings as follows:\n",
    "\n",
    "For the intercept:\n",
    "\n",
    "python\n",
    "print('\\nIntercept: {:0.2f}'.format(float(method.intercept_.item())))\n",
    "\n",
    "For the coefficient:\n",
    "print('\\nCoefficient: {:0.2f}'.format(float(method.coef_.item())))\n",
    "The item() method is used to extract a single element from the array, which is the recommended way to convert a size-1 array to a scalar in NumPy 1.25 and later versions12. This approach ensures that you're explicitly extracting a single value from the array before converting it to a float, avoiding the deprecated behavior of implicitly converting arrays with ndim > 0 to scalars3.\n",
    "\n",
    "By making these changes, you'll eliminate the deprecation warnings and ensure your code remains compatible with future versions of NumPy.\n"
   ]
  },
  {
   "cell_type": "code",
   "execution_count": 18,
   "id": "524b1e99-3522-4137-afcc-c12b0e22581b",
   "metadata": {},
   "outputs": [
    {
     "name": "stdout",
     "output_type": "stream",
     "text": [
      "\n",
      "Forecast Table\n"
     ]
    },
    {
     "data": {
      "text/html": [
       "<div>\n",
       "<style scoped>\n",
       "    .dataframe tbody tr th:only-of-type {\n",
       "        vertical-align: middle;\n",
       "    }\n",
       "\n",
       "    .dataframe tbody tr th {\n",
       "        vertical-align: top;\n",
       "    }\n",
       "\n",
       "    .dataframe thead th {\n",
       "        text-align: right;\n",
       "    }\n",
       "</style>\n",
       "<table border=\"1\" class=\"dataframe\">\n",
       "  <thead>\n",
       "    <tr style=\"text-align: right;\">\n",
       "      <th></th>\n",
       "      <th>Actual</th>\n",
       "      <th>Predicted</th>\n",
       "      <th>Difference</th>\n",
       "    </tr>\n",
       "  </thead>\n",
       "  <tbody>\n",
       "    <tr>\n",
       "      <th>0</th>\n",
       "      <td>25</td>\n",
       "      <td>28.55</td>\n",
       "      <td>3.55</td>\n",
       "    </tr>\n",
       "    <tr>\n",
       "      <th>1</th>\n",
       "      <td>35</td>\n",
       "      <td>39.36</td>\n",
       "      <td>4.36</td>\n",
       "    </tr>\n",
       "    <tr>\n",
       "      <th>2</th>\n",
       "      <td>42</td>\n",
       "      <td>34.45</td>\n",
       "      <td>-7.55</td>\n",
       "    </tr>\n",
       "    <tr>\n",
       "      <th>3</th>\n",
       "      <td>62</td>\n",
       "      <td>60.02</td>\n",
       "      <td>-1.98</td>\n",
       "    </tr>\n",
       "    <tr>\n",
       "      <th>4</th>\n",
       "      <td>20</td>\n",
       "      <td>16.74</td>\n",
       "      <td>-3.26</td>\n",
       "    </tr>\n",
       "  </tbody>\n",
       "</table>\n",
       "</div>"
      ],
      "text/plain": [
       "   Actual  Predicted  Difference\n",
       "0      25      28.55        3.55\n",
       "1      35      39.36        4.36\n",
       "2      42      34.45       -7.55\n",
       "3      62      60.02       -1.98\n",
       "4      20      16.74       -3.26"
      ]
     },
     "execution_count": 18,
     "metadata": {},
     "output_type": "execute_result"
    }
   ],
   "source": [
    "predict2=predict.reshape(-1)\n",
    "diff = predict2-y_test\n",
    "FcstTble= pd.DataFrame({'Actual':y_test, 'Predicted':predict2.round(2), 'Difference':diff.round(2)})\n",
    "print('\\nForecast Table')\n",
    "FcstTble.head()"
   ]
  },
  {
   "cell_type": "code",
   "execution_count": null,
   "id": "46e781b1-0f7e-46f8-a949-77b7fe4e733b",
   "metadata": {},
   "outputs": [],
   "source": []
  }
 ],
 "metadata": {
  "kernelspec": {
   "display_name": "Python 3 (ipykernel)",
   "language": "python",
   "name": "python3"
  },
  "language_info": {
   "codemirror_mode": {
    "name": "ipython",
    "version": 3
   },
   "file_extension": ".py",
   "mimetype": "text/x-python",
   "name": "python",
   "nbconvert_exporter": "python",
   "pygments_lexer": "ipython3",
   "version": "3.12.7"
  }
 },
 "nbformat": 4,
 "nbformat_minor": 5
}
